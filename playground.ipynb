{
 "cells": [
  {
   "metadata": {
    "ExecuteTime": {
     "end_time": "2024-05-31T11:01:55.296920Z",
     "start_time": "2024-05-31T11:01:54.684200Z"
    }
   },
   "cell_type": "code",
   "source": [
    "import regression\n",
    "import tests.utils\n",
    "import numpy as np"
   ],
   "id": "1cc9e1b55d748635",
   "outputs": [],
   "execution_count": 1
  },
  {
   "metadata": {
    "ExecuteTime": {
     "end_time": "2024-05-31T11:01:56.137612Z",
     "start_time": "2024-05-31T11:01:55.296920Z"
    }
   },
   "cell_type": "code",
   "source": "x, y, y_true, reference_model = tests.utils.data_generation_model(100, 3)",
   "id": "82b08dd4d0ad222b",
   "outputs": [
    {
     "ename": "NameError",
     "evalue": "name 't' is not defined",
     "output_type": "error",
     "traceback": [
      "\u001B[1;31m---------------------------------------------------------------------------\u001B[0m",
      "\u001B[1;31mNameError\u001B[0m                                 Traceback (most recent call last)",
      "Cell \u001B[1;32mIn[2], line 1\u001B[0m\n\u001B[1;32m----> 1\u001B[0m x, y, y_true, reference_model \u001B[38;5;241m=\u001B[39m \u001B[43mtests\u001B[49m\u001B[38;5;241;43m.\u001B[39;49m\u001B[43mutils\u001B[49m\u001B[38;5;241;43m.\u001B[39;49m\u001B[43mdata_generation_model\u001B[49m\u001B[43m(\u001B[49m\u001B[38;5;241;43m100\u001B[39;49m\u001B[43m,\u001B[49m\u001B[43m \u001B[49m\u001B[38;5;241;43m3\u001B[39;49m\u001B[43m)\u001B[49m\n",
      "File \u001B[1;32mG:\\projects\\OMARS\\tests\\utils.py:27\u001B[0m, in \u001B[0;36mdata_generation_model\u001B[1;34m(n_samples, dim)\u001B[0m\n\u001B[0;32m     21\u001B[0m x08 \u001B[38;5;241m=\u001B[39m x[np\u001B[38;5;241m.\u001B[39margmin(np\u001B[38;5;241m.\u001B[39mabs(x[:, \u001B[38;5;241m1\u001B[39m] \u001B[38;5;241m-\u001B[39m \u001B[38;5;241m0.8\u001B[39m)), \u001B[38;5;241m1\u001B[39m]\n\u001B[0;32m     22\u001B[0m reference_model\u001B[38;5;241m.\u001B[39mbasis \u001B[38;5;241m=\u001B[39m [\n\u001B[0;32m     23\u001B[0m     regression\u001B[38;5;241m.\u001B[39mBasis(),\n\u001B[0;32m     24\u001B[0m     regression\u001B[38;5;241m.\u001B[39mBasis(v\u001B[38;5;241m=\u001B[39m[\u001B[38;5;241m0\u001B[39m], t\u001B[38;5;241m=\u001B[39mnp\u001B[38;5;241m.\u001B[39marray([x1]), hinge\u001B[38;5;241m=\u001B[39m[\u001B[38;5;28;01mTrue\u001B[39;00m]),\n\u001B[0;32m     25\u001B[0m     regression\u001B[38;5;241m.\u001B[39mBasis(v\u001B[38;5;241m=\u001B[39m[\u001B[38;5;241m0\u001B[39m, \u001B[38;5;241m1\u001B[39m], t\u001B[38;5;241m=\u001B[39mnp\u001B[38;5;241m.\u001B[39marray([x1, x08]), hinge\u001B[38;5;241m=\u001B[39m[\u001B[38;5;28;01mTrue\u001B[39;00m, \u001B[38;5;28;01mTrue\u001B[39;00m]),\n\u001B[0;32m     26\u001B[0m ]\n\u001B[1;32m---> 27\u001B[0m \u001B[43mreference_model\u001B[49m\u001B[38;5;241;43m.\u001B[39;49m\u001B[43mfit\u001B[49m\u001B[43m(\u001B[49m\u001B[43mx\u001B[49m\u001B[43m,\u001B[49m\u001B[43m \u001B[49m\u001B[43my\u001B[49m\u001B[43m)\u001B[49m\n\u001B[0;32m     28\u001B[0m \u001B[38;5;28;01mreturn\u001B[39;00m x, y, y_true, reference_model\n",
      "File \u001B[1;32mG:\\projects\\OMARS\\src\\regression.py:300\u001B[0m, in \u001B[0;36mOMARS.fit\u001B[1;34m(self, x, y)\u001B[0m\n\u001B[0;32m    292\u001B[0m \u001B[38;5;28;01massert\u001B[39;00m x\u001B[38;5;241m.\u001B[39mshape[\u001B[38;5;241m0\u001B[39m] \u001B[38;5;241m==\u001B[39m y\u001B[38;5;241m.\u001B[39mshape[\u001B[38;5;241m0\u001B[39m]\n\u001B[0;32m    294\u001B[0m \u001B[38;5;250m\u001B[39m\u001B[38;5;124;03m'''\u001B[39;00m\n\u001B[0;32m    295\u001B[0m \u001B[38;5;124;03mATTENTION !!!\u001B[39;00m\n\u001B[0;32m    296\u001B[0m \u001B[38;5;124;03mThe basis through the forward pass does not need to be linearly independent, \u001B[39;00m\n\u001B[0;32m    297\u001B[0m \u001B[38;5;124;03mwhich may lead to a singular matrix. Here we can either add a small diagonal \u001B[39;00m\n\u001B[0;32m    298\u001B[0m \u001B[38;5;124;03mvalue or set the dependent coefficients to 0 to obtain a unique solution again.\u001B[39;00m\n\u001B[0;32m    299\u001B[0m \u001B[38;5;124;03m'''\u001B[39;00m\n\u001B[1;32m--> 300\u001B[0m \u001B[38;5;28;43mself\u001B[39;49m\u001B[38;5;241;43m.\u001B[39;49m\u001B[43mcalculate_fit_matrix\u001B[49m\u001B[43m(\u001B[49m\u001B[43mx\u001B[49m\u001B[43m)\u001B[49m\n\u001B[0;32m    301\u001B[0m \u001B[38;5;28mself\u001B[39m\u001B[38;5;241m.\u001B[39mcalculate_covariance_matrix()\n\u001B[0;32m    302\u001B[0m \u001B[38;5;28mself\u001B[39m\u001B[38;5;241m.\u001B[39mcalculate_right_hand_side(y)\n",
      "File \u001B[1;32mG:\\projects\\OMARS\\src\\regression.py:176\u001B[0m, in \u001B[0;36mOMARS.calculate_fit_matrix\u001B[1;34m(self, x)\u001B[0m\n\u001B[0;32m    173\u001B[0m \u001B[38;5;28;01mdef\u001B[39;00m \u001B[38;5;21mcalculate_fit_matrix\u001B[39m(\u001B[38;5;28mself\u001B[39m, x: np\u001B[38;5;241m.\u001B[39mndarray):\n\u001B[0;32m    174\u001B[0m     \u001B[38;5;28;01massert\u001B[39;00m x\u001B[38;5;241m.\u001B[39mndim \u001B[38;5;241m==\u001B[39m \u001B[38;5;241m2\u001B[39m\n\u001B[1;32m--> 176\u001B[0m     \u001B[38;5;28mself\u001B[39m\u001B[38;5;241m.\u001B[39mfit_matrix \u001B[38;5;241m=\u001B[39m \u001B[38;5;28;43mself\u001B[39;49m\u001B[38;5;241;43m.\u001B[39;49m\u001B[43mdata_matrix\u001B[49m\u001B[43m(\u001B[49m\u001B[43mx\u001B[49m\u001B[43m)\u001B[49m\n",
      "File \u001B[1;32mG:\\projects\\OMARS\\src\\regression.py:101\u001B[0m, in \u001B[0;36mOMARS.data_matrix\u001B[1;34m(self, x)\u001B[0m\n\u001B[0;32m     98\u001B[0m \u001B[38;5;28;01mdef\u001B[39;00m \u001B[38;5;21mdata_matrix\u001B[39m(\u001B[38;5;28mself\u001B[39m, x: np\u001B[38;5;241m.\u001B[39mndarray) \u001B[38;5;241m-\u001B[39m\u001B[38;5;241m>\u001B[39m np\u001B[38;5;241m.\u001B[39mndarray:\n\u001B[0;32m     99\u001B[0m     \u001B[38;5;28;01massert\u001B[39;00m x\u001B[38;5;241m.\u001B[39mndim \u001B[38;5;241m==\u001B[39m \u001B[38;5;241m2\u001B[39m\n\u001B[1;32m--> 101\u001B[0m     result \u001B[38;5;241m=\u001B[39m \u001B[38;5;241m-\u001B[39m\u001B[43mt\u001B[49m \u001B[38;5;241m+\u001B[39m x[:, v]\n\u001B[0;32m    102\u001B[0m     np\u001B[38;5;241m.\u001B[39mmaximum(np\u001B[38;5;241m.\u001B[39mzeros_like(result), result, where\u001B[38;5;241m=\u001B[39mhinge, out\u001B[38;5;241m=\u001B[39mresult)\n\u001B[0;32m    103\u001B[0m     result \u001B[38;5;241m=\u001B[39m result\u001B[38;5;241m.\u001B[39mprod(axis\u001B[38;5;241m=\u001B[39m\u001B[38;5;241m1\u001B[39m, where\u001B[38;5;241m=\u001B[39mwhere)[:, :\u001B[38;5;28mlen\u001B[39m(reference_model\u001B[38;5;241m.\u001B[39mbasis)]\n",
      "\u001B[1;31mNameError\u001B[0m: name 't' is not defined"
     ]
    }
   ],
   "execution_count": 2
  },
  {
   "metadata": {
    "ExecuteTime": {
     "end_time": "2024-05-31T11:01:56.137612Z",
     "start_time": "2024-05-31T11:01:56.137612Z"
    }
   },
   "cell_type": "code",
   "source": "verify = reference_model.data_matrix(x)",
   "id": "3a402f950847ff98",
   "outputs": [],
   "execution_count": null
  },
  {
   "metadata": {},
   "cell_type": "code",
   "source": "verify",
   "id": "f04ef3955e72ea8e",
   "outputs": [],
   "execution_count": null
  },
  {
   "metadata": {},
   "cell_type": "code",
   "source": [
    "v = np.zeros((10, 10), dtype=int)\n",
    "t = np.zeros((10, 10))\n",
    "hinge = v > 1\n",
    "where = v > 1"
   ],
   "id": "302f65b6470ab2f6",
   "outputs": [],
   "execution_count": null
  },
  {
   "metadata": {},
   "cell_type": "code",
   "source": [
    "for i, basis in enumerate(reference_model.basis):\n",
    "    v[:len(basis.v), i] = basis.v\n",
    "    t[:len(basis.t), i] = basis.t\n",
    "    hinge[:len(basis.hinge), i] = basis.hinge\n",
    "    where[:len(basis.hinge), i] = True"
   ],
   "id": "3a4975b3ae980bc9",
   "outputs": [],
   "execution_count": null
  },
  {
   "metadata": {},
   "cell_type": "code",
   "source": [
    "result = -t + x[:, v] \n",
    "np.maximum(np.zeros_like(result), result, where=hinge, out=result)\n",
    "result = result.prod(axis=1, where=where)#[:, :len(reference_model.basis)]\n",
    "result"
   ],
   "id": "a60461b28583ef16",
   "outputs": [],
   "execution_count": null
  },
  {
   "metadata": {},
   "cell_type": "code",
   "source": "",
   "id": "88418c8b10700222",
   "outputs": [],
   "execution_count": null
  }
 ],
 "metadata": {
  "kernelspec": {
   "display_name": "Python 3",
   "language": "python",
   "name": "python3"
  },
  "language_info": {
   "codemirror_mode": {
    "name": "ipython",
    "version": 2
   },
   "file_extension": ".py",
   "mimetype": "text/x-python",
   "name": "python",
   "nbconvert_exporter": "python",
   "pygments_lexer": "ipython2",
   "version": "2.7.6"
  }
 },
 "nbformat": 4,
 "nbformat_minor": 5
}
