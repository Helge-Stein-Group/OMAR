{
 "cells": [
  {
   "cell_type": "code",
   "id": "initial_id",
   "metadata": {
    "collapsed": true,
    "ExecuteTime": {
     "end_time": "2024-04-22T10:01:38.913182Z",
     "start_time": "2024-04-22T10:01:38.721608Z"
    }
   },
   "source": "import numpy as np",
   "outputs": [],
   "execution_count": 1
  },
  {
   "metadata": {
    "ExecuteTime": {
     "end_time": "2024-04-22T10:01:38.921554Z",
     "start_time": "2024-04-22T10:01:38.914458Z"
    }
   },
   "cell_type": "code",
   "source": [
    "test_vec = np.random.rand(9)\n",
    "test_vec"
   ],
   "id": "c6ff06c3761054e2",
   "outputs": [
    {
     "data": {
      "text/plain": [
       "array([0.40726881, 0.48360552, 0.07841042, 0.99830908, 0.31467469,\n",
       "       0.91377277, 0.49743714, 0.09377544, 0.11733393])"
      ]
     },
     "execution_count": 2,
     "metadata": {},
     "output_type": "execute_result"
    }
   ],
   "execution_count": 2
  },
  {
   "metadata": {
    "ExecuteTime": {
     "end_time": "2024-04-22T10:01:38.932568Z",
     "start_time": "2024-04-22T10:01:38.922986Z"
    }
   },
   "cell_type": "code",
   "source": [
    "test_mat = np.zeros((9, 9))\n",
    "test_mat[:, -1] = test_vec\n",
    "test_mat[-1, :] = test_vec"
   ],
   "id": "35aaf29b58734b3a",
   "outputs": [],
   "execution_count": 3
  },
  {
   "metadata": {
    "ExecuteTime": {
     "end_time": "2024-04-22T10:01:38.945285Z",
     "start_time": "2024-04-22T10:01:38.934211Z"
    }
   },
   "cell_type": "code",
   "source": [
    "a = test_vec[-1]\n",
    "temp = np.sqrt(a ** 2 + 4 * np.sum(test_vec[:-1] ** 2))\n",
    "l1 = (a + temp) / 2\n",
    "l2 = (a - temp) / 2\n",
    "l1, l2"
   ],
   "id": "9787b3b08b90a3fb",
   "outputs": [
    {
     "data": {
      "text/plain": [
       "(1.6699371410963102, -1.5526032075515017)"
      ]
     },
     "execution_count": 4,
     "metadata": {},
     "output_type": "execute_result"
    }
   ],
   "execution_count": 4
  },
  {
   "metadata": {
    "ExecuteTime": {
     "end_time": "2024-04-22T10:01:38.953931Z",
     "start_time": "2024-04-22T10:01:38.946456Z"
    }
   },
   "cell_type": "code",
   "source": [
    "v1 = np.array([*(test_vec[:-1] / l1), 1])\n",
    "v1 = v1 / np.linalg.norm(v1)\n",
    "\n",
    "v2 = np.array([*(test_vec[:-1] / l2), 1])\n",
    "v2 = v2 / np.linalg.norm(v2)"
   ],
   "id": "24c5f592b07abe97",
   "outputs": [],
   "execution_count": 5
  },
  {
   "metadata": {
    "ExecuteTime": {
     "end_time": "2024-04-22T10:01:38.968207Z",
     "start_time": "2024-04-22T10:01:38.955304Z"
    }
   },
   "cell_type": "code",
   "source": "np.allclose(l1 * np.outer(v1, v1) + l2 * np.outer(v2, v2), test_mat)",
   "id": "cf9aff2a8a05d7d0",
   "outputs": [
    {
     "data": {
      "text/plain": [
       "True"
      ]
     },
     "execution_count": 6,
     "metadata": {},
     "output_type": "execute_result"
    }
   ],
   "execution_count": 6
  },
  {
   "metadata": {
    "ExecuteTime": {
     "end_time": "2024-04-22T10:25:16.905384Z",
     "start_time": "2024-04-22T10:25:16.901795Z"
    }
   },
   "cell_type": "code",
   "source": [
    "test_mat = np.arange(9).reshape(3, 3)\n",
    "test_mat = test_mat.T @ test_mat\n",
    "\n",
    "chol1 = np.linalg.cholesky(test_mat)\n",
    "chol2 = np.linalg.cholesky(test_mat + np.outer([0, 0, 1], [0, 0, 1]))"
   ],
   "id": "ec0bd7e4f030c99c",
   "outputs": [],
   "execution_count": 24
  },
  {
   "metadata": {
    "ExecuteTime": {
     "end_time": "2024-04-22T10:12:08.320412Z",
     "start_time": "2024-04-22T10:12:08.316344Z"
    }
   },
   "cell_type": "code",
   "source": [
    "def cholesky_update(chol, update_vector, multiplier=1.):\n",
    "    omega = update_vector\n",
    "    b = 1\n",
    "\n",
    "    new_chol = np.zeros_like(chol)\n",
    "    for i in range(chol.shape[0]):\n",
    "        temp = chol[i, i] ** 2 + multiplier / b * omega[i] ** 2\n",
    "        new_chol[i, i] = np.sqrt(temp)\n",
    "        omega[i+1:] -= omega[i] / chol[i, i] * chol[i+1:, i]\n",
    "        new_chol[i + 1:, i] = new_chol[i, i] * (\n",
    "                chol[i + 1:, i] / chol[i, i] + multiplier * omega[i] * omega[i + 1:] / temp / b)\n",
    "        b += multiplier * omega[i] ** 2 / chol[i, i] ** 2\n",
    "    return new_chol"
   ],
   "id": "7959259d6fbb3971",
   "outputs": [],
   "execution_count": 22
  },
  {
   "metadata": {
    "ExecuteTime": {
     "end_time": "2024-04-22T10:12:08.490380Z",
     "start_time": "2024-04-22T10:12:08.486079Z"
    }
   },
   "cell_type": "code",
   "source": "np.allclose(cholesky_update(chol1, np.array([0, 0, 1], dtype=float)), chol2)",
   "id": "81c95915834963d7",
   "outputs": [
    {
     "data": {
      "text/plain": [
       "True"
      ]
     },
     "execution_count": 23,
     "metadata": {},
     "output_type": "execute_result"
    }
   ],
   "execution_count": 23
  }
 ],
 "metadata": {
  "kernelspec": {
   "display_name": "Python 3",
   "language": "python",
   "name": "python3"
  },
  "language_info": {
   "codemirror_mode": {
    "name": "ipython",
    "version": 2
   },
   "file_extension": ".py",
   "mimetype": "text/x-python",
   "name": "python",
   "nbconvert_exporter": "python",
   "pygments_lexer": "ipython2",
   "version": "2.7.6"
  }
 },
 "nbformat": 4,
 "nbformat_minor": 5
}
