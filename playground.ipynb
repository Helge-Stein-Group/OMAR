{
 "cells": [
  {
   "cell_type": "code",
   "id": "initial_id",
   "metadata": {
    "collapsed": true,
    "ExecuteTime": {
     "end_time": "2024-04-29T10:33:38.898230Z",
     "start_time": "2024-04-29T10:33:38.760880Z"
    }
   },
   "source": "import numpy as np",
   "outputs": [],
   "execution_count": 1
  },
  {
   "metadata": {
    "ExecuteTime": {
     "end_time": "2024-04-23T08:41:19.002514Z",
     "start_time": "2024-04-23T08:41:18.999259Z"
    }
   },
   "cell_type": "code",
   "source": [
    "fit_dummy = np.random.rand(100, 3)\n",
    "v = fit_dummy.T @ (fit_dummy - np.mean(fit_dummy, axis=0))"
   ],
   "id": "b06e0e5981beb96b",
   "outputs": [],
   "execution_count": 8
  },
  {
   "metadata": {
    "ExecuteTime": {
     "end_time": "2024-04-23T08:41:19.696488Z",
     "start_time": "2024-04-23T08:41:19.692888Z"
    }
   },
   "cell_type": "code",
   "source": "v2 = fit_dummy.T @ fit_dummy - np.sum(fit_dummy.T, axis=1, keepdims=True) * np.mean(fit_dummy, axis=0, keepdims=True)",
   "id": "40e09fc8a56ae862",
   "outputs": [],
   "execution_count": 9
  },
  {
   "metadata": {
    "ExecuteTime": {
     "end_time": "2024-04-23T08:45:22.530970Z",
     "start_time": "2024-04-23T08:45:22.527727Z"
    }
   },
   "cell_type": "code",
   "source": [
    "v3 = np.zeros((3, 3))\n",
    "for i in range(3):\n",
    "    for j in range(3):\n",
    "        v3[i, j] = np.sum(fit_dummy[:, j] * (fit_dummy[:, i] - np.mean(fit_dummy[:, i])))"
   ],
   "id": "f3ccd9500ca8321f",
   "outputs": [],
   "execution_count": 11
  },
  {
   "metadata": {
    "ExecuteTime": {
     "end_time": "2024-04-23T08:45:26.056220Z",
     "start_time": "2024-04-23T08:45:26.052310Z"
    }
   },
   "cell_type": "code",
   "source": "np.allclose(v, v3)",
   "id": "fcc5983f724aba64",
   "outputs": [
    {
     "data": {
      "text/plain": [
       "True"
      ]
     },
     "execution_count": 12,
     "metadata": {},
     "output_type": "execute_result"
    }
   ],
   "execution_count": 12
  },
  {
   "metadata": {
    "ExecuteTime": {
     "end_time": "2024-04-23T08:35:12.573574Z",
     "start_time": "2024-04-23T08:35:12.566817Z"
    }
   },
   "cell_type": "code",
   "source": [
    "t = np.zeros((3, 3))\n",
    "t - np.ones((3, 1))"
   ],
   "id": "647ca6b553814534",
   "outputs": [
    {
     "data": {
      "text/plain": [
       "array([[-1., -1., -1.],\n",
       "       [-1., -1., -1.],\n",
       "       [-1., -1., -1.]])"
      ]
     },
     "execution_count": 2,
     "metadata": {},
     "output_type": "execute_result"
    }
   ],
   "execution_count": 2
  },
  {
   "metadata": {
    "ExecuteTime": {
     "end_time": "2024-04-23T08:35:28.238265Z",
     "start_time": "2024-04-23T08:35:28.234316Z"
    }
   },
   "cell_type": "code",
   "source": "np.ones((3, 1)).shape",
   "id": "5c58ab85f77062bd",
   "outputs": [
    {
     "data": {
      "text/plain": [
       "(3, 1)"
      ]
     },
     "execution_count": 3,
     "metadata": {},
     "output_type": "execute_result"
    }
   ],
   "execution_count": 3
  },
  {
   "metadata": {
    "ExecuteTime": {
     "end_time": "2024-04-23T08:36:14.155722Z",
     "start_time": "2024-04-23T08:36:14.151974Z"
    }
   },
   "cell_type": "code",
   "source": "np.ones((3, 1))",
   "id": "7169d4b24e9dbe58",
   "outputs": [
    {
     "data": {
      "text/plain": [
       "array([[1.],\n",
       "       [1.],\n",
       "       [1.]])"
      ]
     },
     "execution_count": 4,
     "metadata": {},
     "output_type": "execute_result"
    }
   ],
   "execution_count": 4
  },
  {
   "metadata": {
    "ExecuteTime": {
     "end_time": "2024-04-22T12:38:12.951870Z",
     "start_time": "2024-04-22T12:38:12.947390Z"
    }
   },
   "cell_type": "code",
   "source": [
    "test_mat = np.random.rand(3,3)\n",
    "test_mat = test_mat.T @ test_mat\n",
    "test_mat"
   ],
   "id": "b5c8487ebae375c5",
   "outputs": [
    {
     "data": {
      "text/plain": [
       "array([[0.27661964, 0.44851491, 0.46945992],\n",
       "       [0.44851491, 1.27801924, 0.90478566],\n",
       "       [0.46945992, 0.90478566, 0.83420293]])"
      ]
     },
     "execution_count": 30,
     "metadata": {},
     "output_type": "execute_result"
    }
   ],
   "execution_count": 30
  },
  {
   "metadata": {
    "ExecuteTime": {
     "end_time": "2024-04-22T12:38:41.515601Z",
     "start_time": "2024-04-22T12:38:41.511460Z"
    }
   },
   "cell_type": "code",
   "source": [
    "test_vec = np.random.rand(3)\n",
    "test_vec[-1] += 5\n",
    "test_vec"
   ],
   "id": "c6ff06c3761054e2",
   "outputs": [
    {
     "data": {
      "text/plain": [
       "array([0.3899092 , 0.28447892, 5.78215143])"
      ]
     },
     "execution_count": 37,
     "metadata": {},
     "output_type": "execute_result"
    }
   ],
   "execution_count": 37
  },
  {
   "metadata": {
    "ExecuteTime": {
     "end_time": "2024-04-22T12:38:41.746004Z",
     "start_time": "2024-04-22T12:38:41.739513Z"
    }
   },
   "cell_type": "code",
   "source": [
    "add_mat = np.zeros((3, 3))\n",
    "add_mat[:, -1] = test_vec\n",
    "add_mat[-1, :] = test_vec\n",
    "add_mat"
   ],
   "id": "35aaf29b58734b3a",
   "outputs": [
    {
     "data": {
      "text/plain": [
       "array([[0.        , 0.        , 0.3899092 ],\n",
       "       [0.        , 0.        , 0.28447892],\n",
       "       [0.3899092 , 0.28447892, 5.78215143]])"
      ]
     },
     "execution_count": 38,
     "metadata": {},
     "output_type": "execute_result"
    }
   ],
   "execution_count": 38
  },
  {
   "metadata": {
    "ExecuteTime": {
     "end_time": "2024-04-22T12:48:15.779307Z",
     "start_time": "2024-04-22T12:48:15.775317Z"
    }
   },
   "cell_type": "code",
   "source": [
    "a = test_vec[-1]\n",
    "temp = np.sqrt(a ** 2 + 4 * np.sum(test_vec[:-1] ** 2))\n",
    "l1 = (a + temp) / 2\n",
    "l2 = (a - temp) / 2\n",
    "l1, l2"
   ],
   "id": "9787b3b08b90a3fb",
   "outputs": [
    {
     "data": {
      "text/plain": [
       "(5.822163609282079, -0.04001217695906645)"
      ]
     },
     "execution_count": 55,
     "metadata": {},
     "output_type": "execute_result"
    }
   ],
   "execution_count": 55
  },
  {
   "metadata": {
    "ExecuteTime": {
     "end_time": "2024-04-22T12:48:16.021749Z",
     "start_time": "2024-04-22T12:48:16.018018Z"
    }
   },
   "cell_type": "code",
   "source": [
    "v1 = np.array([*(test_vec[:-1] / l1), 1])\n",
    "v1 = v1 / np.linalg.norm(v1)\n",
    "\n",
    "v2 = np.array([*(test_vec[:-1] / l2), 1])\n",
    "v2 = v2 / np.linalg.norm(v2)"
   ],
   "id": "24c5f592b07abe97",
   "outputs": [],
   "execution_count": 56
  },
  {
   "metadata": {
    "ExecuteTime": {
     "end_time": "2024-04-22T12:48:18.328354Z",
     "start_time": "2024-04-22T12:48:18.324581Z"
    }
   },
   "cell_type": "code",
   "source": "np.allclose(l1 * np.outer(v1, v1) + l2 * np.outer(v2, v2), add_mat)",
   "id": "cf9aff2a8a05d7d0",
   "outputs": [
    {
     "data": {
      "text/plain": [
       "True"
      ]
     },
     "execution_count": 57,
     "metadata": {},
     "output_type": "execute_result"
    }
   ],
   "execution_count": 57
  },
  {
   "metadata": {
    "ExecuteTime": {
     "end_time": "2024-04-22T12:48:19.615827Z",
     "start_time": "2024-04-22T12:48:19.612820Z"
    }
   },
   "cell_type": "code",
   "source": [
    "chol1 = np.linalg.cholesky(test_mat)\n",
    "chol2 = np.linalg.cholesky(test_mat + add_mat)"
   ],
   "id": "ec0bd7e4f030c99c",
   "outputs": [],
   "execution_count": 58
  },
  {
   "metadata": {
    "ExecuteTime": {
     "end_time": "2024-04-22T12:48:19.852746Z",
     "start_time": "2024-04-22T12:48:19.848173Z"
    }
   },
   "cell_type": "code",
   "source": [
    "def cholesky_update(chol, update_vector, multiplier=1.):\n",
    "    omega = update_vector\n",
    "    b = 1\n",
    "\n",
    "    new_chol = np.zeros_like(chol)\n",
    "    for i in range(chol.shape[0]):\n",
    "        temp = chol[i, i] ** 2 + multiplier / b * omega[i] ** 2\n",
    "        new_chol[i, i] = np.sqrt(temp)\n",
    "        omega[i+1:] -= omega[i] / chol[i, i] * chol[i+1:, i]\n",
    "        new_chol[i + 1:, i] = new_chol[i, i] * (\n",
    "                chol[i + 1:, i] / chol[i, i] + multiplier * omega[i] * omega[i + 1:] / temp / b)\n",
    "        b += multiplier * omega[i] ** 2 / chol[i, i] ** 2\n",
    "    return new_chol"
   ],
   "id": "7959259d6fbb3971",
   "outputs": [],
   "execution_count": 59
  },
  {
   "metadata": {
    "ExecuteTime": {
     "end_time": "2024-04-22T12:48:20.071152Z",
     "start_time": "2024-04-22T12:48:20.064365Z"
    }
   },
   "cell_type": "code",
   "source": "np.allclose(cholesky_update(cholesky_update(chol1, v1, l1), v2, l2), chol2)",
   "id": "81c95915834963d7",
   "outputs": [
    {
     "data": {
      "text/plain": [
       "True"
      ]
     },
     "execution_count": 60,
     "metadata": {},
     "output_type": "execute_result"
    }
   ],
   "execution_count": 60
  },
  {
   "metadata": {
    "ExecuteTime": {
     "end_time": "2024-04-29T10:33:42.196843Z",
     "start_time": "2024-04-29T10:33:42.194339Z"
    }
   },
   "cell_type": "code",
   "source": "## Playing",
   "id": "59780e4278ceb550",
   "outputs": [],
   "execution_count": 2
  },
  {
   "metadata": {
    "ExecuteTime": {
     "end_time": "2024-04-29T10:34:06.172233Z",
     "start_time": "2024-04-29T10:34:06.169995Z"
    }
   },
   "cell_type": "code",
   "source": "import numpy as np\n",
   "id": "d09b588e1fde5130",
   "outputs": [],
   "execution_count": 3
  },
  {
   "metadata": {
    "ExecuteTime": {
     "end_time": "2024-04-29T10:34:25.825083Z",
     "start_time": "2024-04-29T10:34:25.821817Z"
    }
   },
   "cell_type": "code",
   "source": [
    "y = np.random.rand(10)\n",
    "B = np.random.rand(10, 3)"
   ],
   "id": "6b46becdd0729c26",
   "outputs": [],
   "execution_count": 4
  },
  {
   "metadata": {
    "ExecuteTime": {
     "end_time": "2024-04-29T10:35:45.257058Z",
     "start_time": "2024-04-29T10:35:45.253363Z"
    }
   },
   "cell_type": "code",
   "source": [
    "rhs1 = B.T @ (y-np.mean(y))\n",
    "rhs2 = np.zeros_like(rhs1)\n",
    "for i in range(3):\n",
    "    rhs2[i] = np.sum(B[:, i] * (y - np.mean(y)))"
   ],
   "id": "538dde237eeaa123",
   "outputs": [],
   "execution_count": 6
  },
  {
   "metadata": {
    "ExecuteTime": {
     "end_time": "2024-04-29T10:35:52.216159Z",
     "start_time": "2024-04-29T10:35:52.210165Z"
    }
   },
   "cell_type": "code",
   "source": "np.allclose(rhs1, rhs2)",
   "id": "a885c8c5dfc2d2b9",
   "outputs": [
    {
     "data": {
      "text/plain": [
       "True"
      ]
     },
     "execution_count": 7,
     "metadata": {},
     "output_type": "execute_result"
    }
   ],
   "execution_count": 7
  },
  {
   "metadata": {},
   "cell_type": "code",
   "outputs": [],
   "execution_count": null,
   "source": "t = np.min()",
   "id": "3b561c9b18ca4902"
  }
 ],
 "metadata": {
  "kernelspec": {
   "display_name": "Python 3",
   "language": "python",
   "name": "python3"
  },
  "language_info": {
   "codemirror_mode": {
    "name": "ipython",
    "version": 2
   },
   "file_extension": ".py",
   "mimetype": "text/x-python",
   "name": "python",
   "nbconvert_exporter": "python",
   "pygments_lexer": "ipython2",
   "version": "2.7.6"
  }
 },
 "nbformat": 4,
 "nbformat_minor": 5
}
