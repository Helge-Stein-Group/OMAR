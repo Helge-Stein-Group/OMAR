{
 "cells": [
  {
   "cell_type": "code",
   "id": "initial_id",
   "metadata": {
    "collapsed": true,
    "ExecuteTime": {
     "end_time": "2024-05-20T07:37:38.605899Z",
     "start_time": "2024-05-20T07:37:37.318353Z"
    }
   },
   "source": [
    "from regression import Model, fit, Basis, forward_pass\n",
    "from tests.simulated_test import data_generation_model, evaluate_prediction, omars_test\n",
    "import numpy as np\n",
    "import matplotlib.pyplot as plt\n",
    "from visualization import inspect_fit"
   ],
   "execution_count": 1,
   "outputs": []
  },
  {
   "metadata": {
    "ExecuteTime": {
     "end_time": "2024-05-20T07:37:38.613264Z",
     "start_time": "2024-05-20T07:37:38.605899Z"
    }
   },
   "cell_type": "code",
   "source": [
    "def print_basis(model):\n",
    "    desc = \"\"\n",
    "    for basis in model.basis:\n",
    "        desc += f\"{basis}\\n\"\n",
    "    print(desc)"
   ],
   "id": "9d41df2c1430bdaf",
   "execution_count": 2,
   "outputs": []
  },
  {
   "metadata": {
    "ExecuteTime": {
     "end_time": "2024-05-20T07:37:41.475799Z",
     "start_time": "2024-05-20T07:37:38.613264Z"
    }
   },
   "cell_type": "code",
   "source": [
    "n_samples = 100\n",
    "dim = 2\n",
    "\n",
    "x, y, y_true, reference_model = data_generation_model(n_samples, dim)\n",
    "model = fit(x, y, 10)"
   ],
   "id": "6021d35c785d2acb",
   "execution_count": 3,
   "outputs": []
  },
  {
   "metadata": {
    "ExecuteTime": {
     "end_time": "2024-05-20T07:37:45.980087Z",
     "start_time": "2024-05-20T07:37:45.960679Z"
    }
   },
   "cell_type": "code",
   "source": [
    "print(model.gcv)\n",
    "print_basis(model)\n",
    "print(\"\\n\")\n",
    "print(reference_model.gcv)\n",
    "print_basis(reference_model)"
   ],
   "id": "d84dd228151f8556",
   "execution_count": 4,
   "outputs": []
  },
  {
   "metadata": {
    "ExecuteTime": {
     "end_time": "2024-05-20T07:39:25.535380Z",
     "start_time": "2024-05-20T07:39:25.522308Z"
    }
   },
   "cell_type": "code",
   "source": [
    "first_model = Model()\n",
    "first_model.basis = [\n",
    "    Basis(v=[], t=np.array([]), hinge=[]),\n",
    "    Basis(v=[0], t=np.array([1.04266408]), hinge=[True]),\n",
    "    Basis(v=[0, 1], t=np.array([1.04266408, 0.76810408]), hinge=[True, True])\n",
    "]\n",
    "first_model.fit(x, y)\n",
    "print(first_model.gcv)"
   ],
   "id": "4259d43ed204cd24",
   "execution_count": 5,
   "outputs": []
  },
  {
   "metadata": {},
   "cell_type": "code",
   "execution_count": null,
   "source": "",
   "id": "1cc9e1b55d748635",
   "outputs": []
  }
 ],
 "metadata": {
  "kernelspec": {
   "display_name": "Python 3",
   "language": "python",
   "name": "python3"
  },
  "language_info": {
   "codemirror_mode": {
    "name": "ipython",
    "version": 2
   },
   "file_extension": ".py",
   "mimetype": "text/x-python",
   "name": "python",
   "nbconvert_exporter": "python",
   "pygments_lexer": "ipython2",
   "version": "2.7.6"
  }
 },
 "nbformat": 4,
 "nbformat_minor": 5
}
