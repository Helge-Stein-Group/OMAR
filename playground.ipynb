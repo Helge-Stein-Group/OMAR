{
 "cells": [
  {
   "cell_type": "code",
   "id": "initial_id",
   "metadata": {
    "collapsed": true,
    "ExecuteTime": {
     "end_time": "2024-04-21T08:17:51.243375Z",
     "start_time": "2024-04-21T08:17:50.955370Z"
    }
   },
   "source": "import numpy as np",
   "outputs": [],
   "execution_count": 1
  },
  {
   "metadata": {
    "ExecuteTime": {
     "end_time": "2024-04-21T08:17:51.256556Z",
     "start_time": "2024-04-21T08:17:51.243375Z"
    }
   },
   "cell_type": "code",
   "source": [
    "test_vec = np.random.rand(9)\n",
    "test_vec"
   ],
   "id": "c6ff06c3761054e2",
   "outputs": [
    {
     "data": {
      "text/plain": [
       "array([0.60258853, 0.01069432, 0.4716336 , 0.49522994, 0.42048393,\n",
       "       0.69663125, 0.64570479, 0.26826099, 0.12019827])"
      ]
     },
     "execution_count": 2,
     "metadata": {},
     "output_type": "execute_result"
    }
   ],
   "execution_count": 2
  },
  {
   "metadata": {
    "ExecuteTime": {
     "end_time": "2024-04-21T08:17:51.271936Z",
     "start_time": "2024-04-21T08:17:51.256556Z"
    }
   },
   "cell_type": "code",
   "source": [
    "test_mat = np.zeros((9,9))\n",
    "test_mat[:,-1] = test_vec\n",
    "test_mat[-1,:] = test_vec  "
   ],
   "id": "35aaf29b58734b3a",
   "outputs": [],
   "execution_count": 3
  },
  {
   "metadata": {
    "ExecuteTime": {
     "end_time": "2024-04-21T08:17:51.286934Z",
     "start_time": "2024-04-21T08:17:51.271936Z"
    }
   },
   "cell_type": "code",
   "source": [
    "a = test_vec[-1]\n",
    "temp = np.sqrt(a**2 + 4 * np.sum(test_vec[:-1]**2))\n",
    "l1 = (a + temp) / 2\n",
    "l2 = (a - temp) / 2\n",
    "l1, l2"
   ],
   "id": "9787b3b08b90a3fb",
   "outputs": [
    {
     "data": {
      "text/plain": [
       "(1.469187706499764, -1.3489894407966767)"
      ]
     },
     "execution_count": 4,
     "metadata": {},
     "output_type": "execute_result"
    }
   ],
   "execution_count": 4
  },
  {
   "metadata": {
    "ExecuteTime": {
     "end_time": "2024-04-21T08:17:51.303161Z",
     "start_time": "2024-04-21T08:17:51.294139Z"
    }
   },
   "cell_type": "code",
   "source": [
    "v1 = np.array([*(test_vec[:-1] / l1) ,1]) \n",
    "v1 = v1 / np.linalg.norm(v1)\n",
    "\n",
    "v2 = np.array([*(test_vec[:-1] / l2) ,1])\n",
    "v2 = v2 / np.linalg.norm(v2)"
   ],
   "id": "24c5f592b07abe97",
   "outputs": [],
   "execution_count": 5
  },
  {
   "metadata": {
    "ExecuteTime": {
     "end_time": "2024-04-21T08:17:51.330070Z",
     "start_time": "2024-04-21T08:17:51.303161Z"
    }
   },
   "cell_type": "code",
   "source": "np.allclose(l1 * np.outer(v1, v1) + l2 * np.outer(v2,v2), test_mat)",
   "id": "cf9aff2a8a05d7d0",
   "outputs": [
    {
     "data": {
      "text/plain": [
       "True"
      ]
     },
     "execution_count": 6,
     "metadata": {},
     "output_type": "execute_result"
    }
   ],
   "execution_count": 6
  },
  {
   "metadata": {
    "ExecuteTime": {
     "end_time": "2024-04-21T08:42:29.168799Z",
     "start_time": "2024-04-21T08:42:29.154485Z"
    }
   },
   "cell_type": "code",
   "source": [
    "test_mat = np.arange(9).reshape(3,3)\n",
    "test_mat = test_mat.T @ test_mat\n",
    "\n",
    "chol1 = np.linalg.cholesky(test_mat)\n",
    "chol2 = np.linalg.cholesky(test_mat + np.outer([0,0,1], [0,0,1]))"
   ],
   "id": "ec0bd7e4f030c99c",
   "outputs": [],
   "execution_count": 8
  },
  {
   "metadata": {
    "ExecuteTime": {
     "end_time": "2024-04-21T08:44:24.815588Z",
     "start_time": "2024-04-21T08:44:24.795036Z"
    }
   },
   "cell_type": "code",
   "source": [
    "def cholesky_update(chol, update_vector, multiplier=np.array([1.])):\n",
    "    dtype = np.common_type(chol, update_vector, multiplier)\n",
    "    chol = np.array(chol, dtype=dtype)\n",
    "    update_vector = np.array(update_vector, dtype=dtype)\n",
    "    multiplier = np.array(multiplier, dtype=dtype)\n",
    "\n",
    "    batch_shape = np.broadcast(chol, update_vector, multiplier).shape[:-2]\n",
    "    chol = np.broadcast_to(chol, batch_shape + chol.shape[-2:])\n",
    "    update_vector = np.broadcast_to(update_vector, batch_shape + update_vector.shape[-1:])\n",
    "    multiplier = np.broadcast_to(multiplier, batch_shape)\n",
    "\n",
    "    chol_diag = np.diagonal(chol, axis1=-2, axis2=-1)\n",
    "\n",
    "    def compute_new_column(accumulated_quantities, state):\n",
    "        _, _, omega, b = accumulated_quantities\n",
    "        index, diagonal_member, col, col_mask = state\n",
    "        omega_at_index = omega[..., index]\n",
    "\n",
    "        new_diagonal_member = np.sqrt(\n",
    "            np.square(diagonal_member) + multiplier / b * np.square(omega_at_index))\n",
    "        scaling_factor = (np.square(diagonal_member) * b +\n",
    "                          multiplier * np.square(omega_at_index))\n",
    "\n",
    "        omega = omega - (omega_at_index / diagonal_member)[..., np.newaxis] * col\n",
    "        new_col = new_diagonal_member[..., np.newaxis] * (\n",
    "            col / diagonal_member[..., np.newaxis] +\n",
    "            (multiplier * omega_at_index / scaling_factor)[..., np.newaxis] * omega * col_mask)\n",
    "        b = b + multiplier * np.square(omega_at_index / diagonal_member)\n",
    "        return new_diagonal_member, new_col, omega, b\n",
    "\n",
    "    cols_mask = np.tril(np.ones_like(chol[0]))\n",
    "    chol = np.moveaxis(chol, -1, 0)\n",
    "    chol_diag = np.moveaxis(chol_diag, -1, 0)\n",
    "\n",
    "    new_diag, new_chol, _, _ = np.apply_along_axis(\n",
    "        compute_new_column,\n",
    "        axis=0,\n",
    "        arr=(np.arange(chol.shape[0]), chol_diag, chol, cols_mask),\n",
    "        initializer=(\n",
    "            np.zeros_like(multiplier),\n",
    "            np.zeros_like(chol[0]),\n",
    "            update_vector,\n",
    "            np.ones_like(multiplier)))\n",
    "    new_chol = np.moveaxis(new_chol, 0, -1)\n",
    "    new_diag = np.moveaxis(new_diag, 0, -1)\n",
    "    new_chol = np.linalg.set_diag(new_chol, new_diag)\n",
    "    return new_chol"
   ],
   "id": "ef2532f7a8ef29a2",
   "outputs": [],
   "execution_count": 15
  },
  {
   "metadata": {
    "ExecuteTime": {
     "end_time": "2024-04-21T09:17:52.579723Z",
     "start_time": "2024-04-21T09:17:52.563595Z"
    }
   },
   "cell_type": "code",
   "source": [
    "def cholesky_update(chol, update_vector, multiplier=1.):\n",
    "    omega = update_vector\n",
    "    b = 1\n",
    "    \n",
    "    new_chol = np.zeros_like(chol)\n",
    "    for i in range(chol.shape[0]):\n",
    "        new_chol[i,i] = np.sqrt(chol[i,i]**2 + multiplier / b * omega[i]**2)\n",
    "        scaling_factor = (chol[i,i]**2 * b + multiplier * omega[i]**2)\n",
    "        for k in range(i+1, chol.shape[0]):\n",
    "            omega[k] -= omega[i] / chol[i,i] * chol[k, i]\n",
    "            new_chol[k, i] = new_chol[i,i] / chol[i,i] * chol[k, i] + new_chol[i,i] * multiplier * omega[i] / scaling_factor * omega[k]\n",
    "        b += multiplier * omega[i]**2 / chol[i,i]**2\n",
    "    return new_chol"
   ],
   "id": "7959259d6fbb3971",
   "outputs": [],
   "execution_count": 82
  },
  {
   "metadata": {
    "ExecuteTime": {
     "end_time": "2024-04-21T09:17:52.731610Z",
     "start_time": "2024-04-21T09:17:52.716478Z"
    }
   },
   "cell_type": "code",
   "source": "np.allclose(cholesky_update(chol1, np.array([0,0,1], dtype=float)), chol2) ",
   "id": "81c95915834963d7",
   "outputs": [
    {
     "data": {
      "text/plain": [
       "True"
      ]
     },
     "execution_count": 83,
     "metadata": {},
     "output_type": "execute_result"
    }
   ],
   "execution_count": 83
  },
  {
   "metadata": {
    "ExecuteTime": {
     "end_time": "2024-04-21T09:17:53.638232Z",
     "start_time": "2024-04-21T09:17:53.621094Z"
    }
   },
   "cell_type": "code",
   "source": "chol2",
   "id": "42532cff8d0b02f",
   "outputs": [
    {
     "data": {
      "text/plain": [
       "array([[6.70820393, 0.        , 0.        ],\n",
       "       [8.04984472, 1.09544512, 0.        ],\n",
       "       [9.39148551, 2.19089023, 1.        ]])"
      ]
     },
     "execution_count": 84,
     "metadata": {},
     "output_type": "execute_result"
    }
   ],
   "execution_count": 84
  },
  {
   "metadata": {
    "ExecuteTime": {
     "end_time": "2024-04-21T09:17:53.844338Z",
     "start_time": "2024-04-21T09:17:53.837022Z"
    }
   },
   "cell_type": "code",
   "source": "cholesky_update(chol1, np.array([0,0,1], dtype=float))",
   "id": "f77a23ca8b55bdd4",
   "outputs": [
    {
     "data": {
      "text/plain": [
       "array([[6.70820393, 0.        , 0.        ],\n",
       "       [8.04984472, 1.09544512, 0.        ],\n",
       "       [9.39148551, 2.19089023, 1.        ]])"
      ]
     },
     "execution_count": 85,
     "metadata": {},
     "output_type": "execute_result"
    }
   ],
   "execution_count": 85
  },
  {
   "metadata": {
    "ExecuteTime": {
     "end_time": "2024-04-21T09:16:14.322406Z",
     "start_time": "2024-04-21T09:16:14.306993Z"
    }
   },
   "cell_type": "code",
   "source": "",
   "id": "c432d6646d1fa85e",
   "outputs": [],
   "execution_count": 77
  }
 ],
 "metadata": {
  "kernelspec": {
   "display_name": "Python 3",
   "language": "python",
   "name": "python3"
  },
  "language_info": {
   "codemirror_mode": {
    "name": "ipython",
    "version": 2
   },
   "file_extension": ".py",
   "mimetype": "text/x-python",
   "name": "python",
   "nbconvert_exporter": "python",
   "pygments_lexer": "ipython2",
   "version": "2.7.6"
  }
 },
 "nbformat": 4,
 "nbformat_minor": 5
}
